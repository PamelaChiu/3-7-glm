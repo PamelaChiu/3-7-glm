{
 "cells": [
  {
   "cell_type": "markdown",
   "metadata": {},
   "source": [
    "# 1. Binary Classification\n",
    "\n",
    "### 1.1 Titanic, but correctly this time\n",
    "\n",
    "Take your linear regression model from the workshop 3.3 on the titanic dataset.\n",
    "\n",
    "Swap OLS for logistic regresssion and compare the classification model metrics (accuracy, ROC plot, F1, precision/recall).\n",
    "\n",
    "How much better is logistic regression than OLS on binary data?"
   ]
  },
  {
   "cell_type": "code",
   "execution_count": 1,
   "metadata": {},
   "outputs": [
    {
     "data": {
      "text/html": [
       "<div>\n",
       "<style scoped>\n",
       "    .dataframe tbody tr th:only-of-type {\n",
       "        vertical-align: middle;\n",
       "    }\n",
       "\n",
       "    .dataframe tbody tr th {\n",
       "        vertical-align: top;\n",
       "    }\n",
       "\n",
       "    .dataframe thead th {\n",
       "        text-align: right;\n",
       "    }\n",
       "</style>\n",
       "<table border=\"1\" class=\"dataframe\">\n",
       "  <thead>\n",
       "    <tr style=\"text-align: right;\">\n",
       "      <th></th>\n",
       "      <th>survived</th>\n",
       "      <th>pclass</th>\n",
       "      <th>sex</th>\n",
       "      <th>age</th>\n",
       "      <th>sibsp</th>\n",
       "      <th>parch</th>\n",
       "      <th>fare</th>\n",
       "      <th>embarked</th>\n",
       "      <th>class</th>\n",
       "      <th>who</th>\n",
       "      <th>adult_male</th>\n",
       "      <th>deck</th>\n",
       "      <th>embark_town</th>\n",
       "      <th>alive</th>\n",
       "      <th>alone</th>\n",
       "    </tr>\n",
       "  </thead>\n",
       "  <tbody>\n",
       "    <tr>\n",
       "      <th>0</th>\n",
       "      <td>0</td>\n",
       "      <td>3</td>\n",
       "      <td>male</td>\n",
       "      <td>22.0</td>\n",
       "      <td>1</td>\n",
       "      <td>0</td>\n",
       "      <td>7.2500</td>\n",
       "      <td>S</td>\n",
       "      <td>Third</td>\n",
       "      <td>man</td>\n",
       "      <td>True</td>\n",
       "      <td>NaN</td>\n",
       "      <td>Southampton</td>\n",
       "      <td>no</td>\n",
       "      <td>False</td>\n",
       "    </tr>\n",
       "    <tr>\n",
       "      <th>1</th>\n",
       "      <td>1</td>\n",
       "      <td>1</td>\n",
       "      <td>female</td>\n",
       "      <td>38.0</td>\n",
       "      <td>1</td>\n",
       "      <td>0</td>\n",
       "      <td>71.2833</td>\n",
       "      <td>C</td>\n",
       "      <td>First</td>\n",
       "      <td>woman</td>\n",
       "      <td>False</td>\n",
       "      <td>C</td>\n",
       "      <td>Cherbourg</td>\n",
       "      <td>yes</td>\n",
       "      <td>False</td>\n",
       "    </tr>\n",
       "    <tr>\n",
       "      <th>2</th>\n",
       "      <td>1</td>\n",
       "      <td>3</td>\n",
       "      <td>female</td>\n",
       "      <td>26.0</td>\n",
       "      <td>0</td>\n",
       "      <td>0</td>\n",
       "      <td>7.9250</td>\n",
       "      <td>S</td>\n",
       "      <td>Third</td>\n",
       "      <td>woman</td>\n",
       "      <td>False</td>\n",
       "      <td>NaN</td>\n",
       "      <td>Southampton</td>\n",
       "      <td>yes</td>\n",
       "      <td>True</td>\n",
       "    </tr>\n",
       "    <tr>\n",
       "      <th>3</th>\n",
       "      <td>1</td>\n",
       "      <td>1</td>\n",
       "      <td>female</td>\n",
       "      <td>35.0</td>\n",
       "      <td>1</td>\n",
       "      <td>0</td>\n",
       "      <td>53.1000</td>\n",
       "      <td>S</td>\n",
       "      <td>First</td>\n",
       "      <td>woman</td>\n",
       "      <td>False</td>\n",
       "      <td>C</td>\n",
       "      <td>Southampton</td>\n",
       "      <td>yes</td>\n",
       "      <td>False</td>\n",
       "    </tr>\n",
       "    <tr>\n",
       "      <th>4</th>\n",
       "      <td>0</td>\n",
       "      <td>3</td>\n",
       "      <td>male</td>\n",
       "      <td>35.0</td>\n",
       "      <td>0</td>\n",
       "      <td>0</td>\n",
       "      <td>8.0500</td>\n",
       "      <td>S</td>\n",
       "      <td>Third</td>\n",
       "      <td>man</td>\n",
       "      <td>True</td>\n",
       "      <td>NaN</td>\n",
       "      <td>Southampton</td>\n",
       "      <td>no</td>\n",
       "      <td>True</td>\n",
       "    </tr>\n",
       "  </tbody>\n",
       "</table>\n",
       "</div>"
      ],
      "text/plain": [
       "   survived  pclass     sex   age  sibsp  parch     fare embarked  class  \\\n",
       "0         0       3    male  22.0      1      0   7.2500        S  Third   \n",
       "1         1       1  female  38.0      1      0  71.2833        C  First   \n",
       "2         1       3  female  26.0      0      0   7.9250        S  Third   \n",
       "3         1       1  female  35.0      1      0  53.1000        S  First   \n",
       "4         0       3    male  35.0      0      0   8.0500        S  Third   \n",
       "\n",
       "     who  adult_male deck  embark_town alive  alone  \n",
       "0    man        True  NaN  Southampton    no  False  \n",
       "1  woman       False    C    Cherbourg   yes  False  \n",
       "2  woman       False  NaN  Southampton   yes   True  \n",
       "3  woman       False    C  Southampton   yes  False  \n",
       "4    man        True  NaN  Southampton    no   True  "
      ]
     },
     "execution_count": 1,
     "metadata": {},
     "output_type": "execute_result"
    }
   ],
   "source": [
    "import numpy as np\n",
    "import pandas as pd\n",
    "import seaborn as sns\n",
    "import matplotlib.pyplot as plt\n",
    "import statsmodels.api as sm\n",
    "from sklearn.linear_model import LogisticRegression\n",
    "from sklearn.model_selection import train_test_split\n",
    "from sklearn.metrics import classification_report,confusion_matrix\n",
    "from sklearn.metrics import roc_auc_score\n",
    "from sklearn.metrics import roc_curve\n",
    "\n",
    "titanic = sns.load_dataset('titanic')\n",
    "titanic.head()"
   ]
  },
  {
   "cell_type": "code",
   "execution_count": 2,
   "metadata": {},
   "outputs": [],
   "source": [
    "titanic['who_class'] = titanic['who'].astype(str)+\"_\"+titanic['class'].astype(str)\n",
    "titanic1 = titanic.drop(['deck','who','age','who_class','adult_male','alone','sex','alive','pclass','embark_town','embarked','class'],axis=1)\n",
    "who_class = pd.get_dummies(titanic['who_class'], drop_first=True)\n",
    "titanic1 = pd.concat([who_class,titanic1.fare],axis=1)"
   ]
  },
  {
   "cell_type": "code",
   "execution_count": 3,
   "metadata": {},
   "outputs": [
    {
     "name": "stdout",
     "output_type": "stream",
     "text": [
      "Warning: Maximum number of iterations has been exceeded.\n",
      "         Current function value: 0.418200\n",
      "         Iterations: 35\n"
     ]
    },
    {
     "name": "stderr",
     "output_type": "stream",
     "text": [
      "C:\\Users\\pchiu\\Documents\\Anaconda\\lib\\site-packages\\statsmodels\\base\\model.py:567: ConvergenceWarning: Maximum Likelihood optimization failed to converge. Check mle_retvals\n",
      "  warn(\"Maximum Likelihood optimization failed to converge. \"\n"
     ]
    },
    {
     "data": {
      "text/html": [
       "<table class=\"simpletable\">\n",
       "<caption>Logit Regression Results</caption>\n",
       "<tr>\n",
       "  <th>Dep. Variable:</th>       <td>survived</td>     <th>  No. Observations:  </th>  <td>   891</td>  \n",
       "</tr>\n",
       "<tr>\n",
       "  <th>Model:</th>                 <td>Logit</td>      <th>  Df Residuals:      </th>  <td>   881</td>  \n",
       "</tr>\n",
       "<tr>\n",
       "  <th>Method:</th>                 <td>MLE</td>       <th>  Df Model:          </th>  <td>     9</td>  \n",
       "</tr>\n",
       "<tr>\n",
       "  <th>Date:</th>            <td>Tue, 09 Feb 2021</td> <th>  Pseudo R-squ.:     </th>  <td>0.3720</td>  \n",
       "</tr>\n",
       "<tr>\n",
       "  <th>Time:</th>                <td>20:41:20</td>     <th>  Log-Likelihood:    </th> <td> -372.62</td> \n",
       "</tr>\n",
       "<tr>\n",
       "  <th>converged:</th>             <td>False</td>      <th>  LL-Null:           </th> <td> -593.33</td> \n",
       "</tr>\n",
       "<tr>\n",
       "  <th>Covariance Type:</th>        <td>HC2</td>       <th>  LLR p-value:       </th> <td>1.954e-89</td>\n",
       "</tr>\n",
       "</table>\n",
       "<table class=\"simpletable\">\n",
       "<tr>\n",
       "        <td></td>          <th>coef</th>     <th>std err</th>      <th>z</th>      <th>P>|z|</th>  <th>[0.025</th>    <th>0.975]</th>  \n",
       "</tr>\n",
       "<tr>\n",
       "  <th>const</th>        <td>    1.6198</td> <td>    1.150</td> <td>    1.409</td> <td> 0.159</td> <td>   -0.634</td> <td>    3.873</td>\n",
       "</tr>\n",
       "<tr>\n",
       "  <th>child_Second</th> <td>   17.9514</td> <td>    1.152</td> <td>   15.579</td> <td> 0.000</td> <td>   15.693</td> <td>   20.210</td>\n",
       "</tr>\n",
       "<tr>\n",
       "  <th>child_Third</th>  <td>   -1.8957</td> <td>    1.162</td> <td>   -1.631</td> <td> 0.103</td> <td>   -4.174</td> <td>    0.382</td>\n",
       "</tr>\n",
       "<tr>\n",
       "  <th>man_First</th>    <td>   -2.2210</td> <td>    1.127</td> <td>   -1.971</td> <td> 0.049</td> <td>   -4.429</td> <td>   -0.013</td>\n",
       "</tr>\n",
       "<tr>\n",
       "  <th>man_Second</th>   <td>   -4.0498</td> <td>    1.191</td> <td>   -3.399</td> <td> 0.001</td> <td>   -6.385</td> <td>   -1.715</td>\n",
       "</tr>\n",
       "<tr>\n",
       "  <th>man_Third</th>    <td>   -3.6197</td> <td>    1.156</td> <td>   -3.131</td> <td> 0.002</td> <td>   -5.886</td> <td>   -1.354</td>\n",
       "</tr>\n",
       "<tr>\n",
       "  <th>woman_First</th>  <td>    2.1835</td> <td>    1.308</td> <td>    1.669</td> <td> 0.095</td> <td>   -0.380</td> <td>    4.747</td>\n",
       "</tr>\n",
       "<tr>\n",
       "  <th>woman_Second</th> <td>    0.6844</td> <td>    1.211</td> <td>    0.565</td> <td> 0.572</td> <td>   -1.689</td> <td>    3.058</td>\n",
       "</tr>\n",
       "<tr>\n",
       "  <th>woman_Third</th>  <td>   -1.6537</td> <td>    1.153</td> <td>   -1.434</td> <td> 0.152</td> <td>   -3.914</td> <td>    0.607</td>\n",
       "</tr>\n",
       "<tr>\n",
       "  <th>fare</th>         <td>-7.415e-05</td> <td>    0.003</td> <td>   -0.028</td> <td> 0.978</td> <td>   -0.005</td> <td>    0.005</td>\n",
       "</tr>\n",
       "</table>"
      ],
      "text/plain": [
       "<class 'statsmodels.iolib.summary.Summary'>\n",
       "\"\"\"\n",
       "                           Logit Regression Results                           \n",
       "==============================================================================\n",
       "Dep. Variable:               survived   No. Observations:                  891\n",
       "Model:                          Logit   Df Residuals:                      881\n",
       "Method:                           MLE   Df Model:                            9\n",
       "Date:                Tue, 09 Feb 2021   Pseudo R-squ.:                  0.3720\n",
       "Time:                        20:41:20   Log-Likelihood:                -372.62\n",
       "converged:                      False   LL-Null:                       -593.33\n",
       "Covariance Type:                  HC2   LLR p-value:                 1.954e-89\n",
       "================================================================================\n",
       "                   coef    std err          z      P>|z|      [0.025      0.975]\n",
       "--------------------------------------------------------------------------------\n",
       "const            1.6198      1.150      1.409      0.159      -0.634       3.873\n",
       "child_Second    17.9514      1.152     15.579      0.000      15.693      20.210\n",
       "child_Third     -1.8957      1.162     -1.631      0.103      -4.174       0.382\n",
       "man_First       -2.2210      1.127     -1.971      0.049      -4.429      -0.013\n",
       "man_Second      -4.0498      1.191     -3.399      0.001      -6.385      -1.715\n",
       "man_Third       -3.6197      1.156     -3.131      0.002      -5.886      -1.354\n",
       "woman_First      2.1835      1.308      1.669      0.095      -0.380       4.747\n",
       "woman_Second     0.6844      1.211      0.565      0.572      -1.689       3.058\n",
       "woman_Third     -1.6537      1.153     -1.434      0.152      -3.914       0.607\n",
       "fare         -7.415e-05      0.003     -0.028      0.978      -0.005       0.005\n",
       "================================================================================\n",
       "\"\"\""
      ]
     },
     "execution_count": 3,
     "metadata": {},
     "output_type": "execute_result"
    }
   ],
   "source": [
    "titanic_y = titanic['survived']\n",
    "titanic_X = titanic1\n",
    "titanic_X = sm.add_constant(titanic_X)\n",
    "\n",
    "titanic_model1 = sm.Logit(titanic_y,titanic_X).fit(cov_type='HC2')\n",
    "titanic_prediction1 = titanic_model1.predict(titanic_X)\n",
    "titanic_model1.summary()"
   ]
  },
  {
   "cell_type": "code",
   "execution_count": 4,
   "metadata": {},
   "outputs": [
    {
     "name": "stdout",
     "output_type": "stream",
     "text": [
      "              precision    recall  f1-score   support\n",
      "\n",
      "           0       0.75      0.97      0.85       175\n",
      "           1       0.93      0.53      0.67       120\n",
      "\n",
      "    accuracy                           0.79       295\n",
      "   macro avg       0.84      0.75      0.76       295\n",
      "weighted avg       0.82      0.79      0.77       295\n",
      "\n",
      "[[170   5]\n",
      " [ 57  63]]\n",
      "Accuracy of logistic regression classifier on test set: 0.79\n"
     ]
    }
   ],
   "source": [
    "X_train, X_test, y_train, y_test = train_test_split(titanic_X, titanic_y, test_size=0.33, random_state=42)\n",
    "logmodel = LogisticRegression()\n",
    "logmodel.fit(X_train,y_train)\n",
    "\n",
    "predictions = logmodel.predict(X_test)\n",
    "print(classification_report(y_test,predictions))\n",
    "print(confusion_matrix(y_test,predictions))\n",
    "print('Accuracy of logistic regression classifier on test set: {:.2f}'.format(logmodel.score(X_test, y_test)))"
   ]
  },
  {
   "cell_type": "code",
   "execution_count": 5,
   "metadata": {},
   "outputs": [
    {
     "data": {
      "text/plain": [
       "[<matplotlib.lines.Line2D at 0x2bf8497f0d0>]"
      ]
     },
     "execution_count": 5,
     "metadata": {},
     "output_type": "execute_result"
    },
    {
     "data": {
      "image/png": "[encoded data removed]",
      "text/plain": [
       "<Figure size 432x288 with 1 Axes>"
      ]
     },
     "metadata": {
      "needs_background": "light"
     },
     "output_type": "display_data"
    }
   ],
   "source": [
    "logit_roc_auc = roc_auc_score(y_test, logmodel.predict(X_test))\n",
    "fpr, tpr, thresholds = roc_curve(y_test, logmodel.predict_proba(X_test)[:,1])\n",
    "plt.figure()\n",
    "plt.plot(fpr, tpr, label='Logistic Regression (area = %0.2f)' % logit_roc_auc)\n",
    "plt.plot([0, 1], [0, 1],'r--')"
   ]
  },
  {
   "cell_type": "markdown",
   "metadata": {},
   "source": [
    "# 2. Intro To Computer Vision\n",
    "\n",
    "The [MNIST dataset](https://en.wikipedia.org/wiki/MNIST_database) is a classic in computer vision. It's a database of manually written digits (from 0 to 9) scanned into a 28x28 pixel image.\n",
    "\n",
    "The `X` matrix is 784 numbers (28x28) with numbers saying how dark the pixel is. The `y` variable is the number. The task is to use the images to do optical recognition.\n",
    "\n",
    "You can fetch the dataset with the following command:\n",
    "\n",
    "```\n",
    "from sklearn.datasets import fetch_openml\n",
    "fetch_openml('mnist_784', version=1, return_X_y=True, as_frame=False)\n",
    "```\n",
    "\n",
    "Use sklearn's logistic regression and any of the tricks you want to boost predictive accuracy. Here's a few notes:\n",
    "\n",
    "- Use the sklearn `train_test_split` we saw in class to keep some holdout data to test on.\n",
    "\n",
    "- You can use whatever sklearn preprocessing you think is relevant. Here's a few: \n",
    "```\n",
    "from sklearn.preprocessing import StandardScaler\n",
    "from sklearn.preprocessing import PolynomialFeatures\n",
    "```\n",
    "\n",
    "- Since there's many features (especially if you use data augmentation like polynomial features), this is a good time to use regularization. Try to find the best regularization parameters possible.\n",
    "\n",
    "- You should be able to get at least 80% on a test set size of 10_000"
   ]
  },
  {
   "cell_type": "code",
   "execution_count": 6,
   "metadata": {},
   "outputs": [],
   "source": [
    "from sklearn.datasets import fetch_openml\n",
    "from sklearn.preprocessing import StandardScaler\n",
    "from sklearn.metrics import accuracy_score\n",
    "from sklearn.neighbors import KNeighborsClassifier"
   ]
  },
  {
   "cell_type": "code",
   "execution_count": 7,
   "metadata": {},
   "outputs": [],
   "source": [
    "X, y = fetch_openml('mnist_784', version=1, return_X_y=True, as_frame=False)"
   ]
  },
  {
   "cell_type": "code",
   "execution_count": 8,
   "metadata": {},
   "outputs": [
    {
     "data": {
      "text/plain": [
       "(-0.5, 27.5, 27.5, -0.5)"
      ]
     },
     "execution_count": 8,
     "metadata": {},
     "output_type": "execute_result"
    },
    {
     "data": {
      "image/png": "[encoded data removed]",
      "text/plain": [
       "<Figure size 432x288 with 3 Axes>"
      ]
     },
     "metadata": {
      "needs_background": "light"
     },
     "output_type": "display_data"
    }
   ],
   "source": [
    "import matplotlib.pyplot as plt\n",
    "digit = X[0]\n",
    "digit_pixels = digit.reshape(28, 28)\n",
    "plt.subplot(131)\n",
    "plt.imshow(digit_pixels)\n",
    "plt.axis('off')\n",
    "digit = X[1]\n",
    "digit_pixels = digit.reshape(28, 28)\n",
    "plt.subplot(132)\n",
    "plt.imshow(digit_pixels)\n",
    "plt.axis('off')\n",
    "digit = X[2]\n",
    "digit_pixels = digit.reshape(28, 28)\n",
    "plt.subplot(133)\n",
    "plt.imshow(digit_pixels)\n",
    "plt.axis('off')"
   ]
  },
  {
   "cell_type": "code",
   "execution_count": 9,
   "metadata": {},
   "outputs": [],
   "source": [
    "scaler = StandardScaler() \n",
    "scaler.fit(X)\n",
    "scale_features = scaler.transform(X)"
   ]
  },
  {
   "cell_type": "code",
   "execution_count": 10,
   "metadata": {},
   "outputs": [
    {
     "name": "stderr",
     "output_type": "stream",
     "text": [
      "C:\\Users\\pchiu\\Documents\\Anaconda\\lib\\site-packages\\sklearn\\linear_model\\_logistic.py:762: ConvergenceWarning: lbfgs failed to converge (status=1):\n",
      "STOP: TOTAL NO. of ITERATIONS REACHED LIMIT.\n",
      "\n",
      "Increase the number of iterations (max_iter) or scale the data as shown in:\n",
      "    https://scikit-learn.org/stable/modules/preprocessing.html\n",
      "Please also refer to the documentation for alternative solver options:\n",
      "    https://scikit-learn.org/stable/modules/linear_model.html#logistic-regression\n",
      "  n_iter_i = _check_optimize_result(\n"
     ]
    },
    {
     "data": {
      "text/plain": [
       "LogisticRegression(multi_class='multinomial')"
      ]
     },
     "execution_count": 10,
     "metadata": {},
     "output_type": "execute_result"
    }
   ],
   "source": [
    "X_train, X_test, y_train, y_test = train_test_split(X, y, test_size=0.15, random_state=42)\n",
    "\n",
    "# define the multinomial logistic regression model\n",
    "model = LogisticRegression(multi_class='multinomial', solver='lbfgs')\n",
    "model.fit(X_train,y_train)"
   ]
  },
  {
   "cell_type": "code",
   "execution_count": 11,
   "metadata": {},
   "outputs": [],
   "source": [
    "pred = model.predict(X_train)"
   ]
  },
  {
   "cell_type": "code",
   "execution_count": 12,
   "metadata": {},
   "outputs": [],
   "source": [
    "test_pred = model.predict(X_test)"
   ]
  },
  {
   "cell_type": "code",
   "execution_count": 13,
   "metadata": {},
   "outputs": [
    {
     "data": {
      "text/plain": [
       "0.9203809523809524"
      ]
     },
     "execution_count": 13,
     "metadata": {},
     "output_type": "execute_result"
    }
   ],
   "source": [
    "accuracy_score(y_train,pred)\n",
    "accuracy_score(y_test,test_pred)"
   ]
  },
  {
   "cell_type": "code",
   "execution_count": 14,
   "metadata": {},
   "outputs": [
    {
     "data": {
      "text/plain": [
       "(-0.5, 27.5, 27.5, -0.5)"
      ]
     },
     "execution_count": 14,
     "metadata": {},
     "output_type": "execute_result"
    },
    {
     "data": {
      "image/png": "[encoded data removed]",
      "text/plain": [
       "<Figure size 432x288 with 1 Axes>"
      ]
     },
     "metadata": {
      "needs_background": "light"
     },
     "output_type": "display_data"
    }
   ],
   "source": [
    "import matplotlib.pyplot as plt\n",
    "digit = X_test[2]\n",
    "digit_pixels = digit.reshape(28, 28)\n",
    "plt.subplot(141)\n",
    "plt.imshow(digit_pixels)\n",
    "plt.axis('off')"
   ]
  },
  {
   "cell_type": "code",
   "execution_count": 15,
   "metadata": {},
   "outputs": [],
   "source": [
    "knn = KNeighborsClassifier()"
   ]
  },
  {
   "cell_type": "code",
   "execution_count": 16,
   "metadata": {},
   "outputs": [],
   "source": [
    "knn.fit(X_train,y_train)\n",
    "predict = knn.predict(X_test)"
   ]
  },
  {
   "cell_type": "code",
   "execution_count": 17,
   "metadata": {},
   "outputs": [
    {
     "data": {
      "text/plain": [
       "0.9697142857142858"
      ]
     },
     "execution_count": 17,
     "metadata": {},
     "output_type": "execute_result"
    }
   ],
   "source": [
    "accuracy_score(y_test,predict)"
   ]
  },
  {
   "cell_type": "markdown",
   "metadata": {},
   "source": [
    "# 3. Counting Poissons\n",
    "\n",
    "The `data/fish.csv` is a data set of camping trips taken by 250 groups of people.\n",
    "\n",
    "- The campers may or may not have done some fishing during their trip.\n",
    "- If a group did some fishing, they would have caught zero or mor fish.\n",
    "- We want to estimate not only how many fish were caught (if there was fishing done by a camping group), but also the probability that the camping group caught any fish at all.\n",
    "\n",
    "Here's info on the columns:\n",
    "\n",
    "**FISH_COUNT:** The number of fish that were caught. This will be our dependent variable y.\n",
    "\n",
    "**LIVE_BAIT:** A binary variable indicating whether live bait was used.\n",
    "\n",
    "**CAMPER:** Whether the fishing group used a camper van.\n",
    "\n",
    "**PERSONS:** Total number of people in the fishing group. Note that in some groups, none of them may have fished.\n",
    "\n",
    "**CHILDREN:** The number of children in the camping group.\n",
    "\n",
    "Your task is to predict the number of fish caught (FISH_COUNT) by a camping group based on the values of LIVE_BAIT, CAMPER, PERSONS and CHILDREN variables.\n",
    "\n",
    "Use what we learned on count variables and zero-inflated datasets to achieve the best model you can.\n",
    "\n",
    "Interpret the models you used to give an analysis of each feature's effect on the predicted fish caught.\n",
    "\n",
    "**N.B.** Please appreciate the effort I went through to find a fish dataset for a count problem pun."
   ]
  },
  {
   "cell_type": "code",
   "execution_count": 18,
   "metadata": {},
   "outputs": [
    {
     "data": {
      "text/html": [
       "<div>\n",
       "<style scoped>\n",
       "    .dataframe tbody tr th:only-of-type {\n",
       "        vertical-align: middle;\n",
       "    }\n",
       "\n",
       "    .dataframe tbody tr th {\n",
       "        vertical-align: top;\n",
       "    }\n",
       "\n",
       "    .dataframe thead th {\n",
       "        text-align: right;\n",
       "    }\n",
       "</style>\n",
       "<table border=\"1\" class=\"dataframe\">\n",
       "  <thead>\n",
       "    <tr style=\"text-align: right;\">\n",
       "      <th></th>\n",
       "      <th>LIVE_BAIT</th>\n",
       "      <th>CAMPER</th>\n",
       "      <th>PERSONS</th>\n",
       "      <th>CHILDREN</th>\n",
       "      <th>FISH_COUNT</th>\n",
       "    </tr>\n",
       "  </thead>\n",
       "  <tbody>\n",
       "    <tr>\n",
       "      <th>0</th>\n",
       "      <td>0</td>\n",
       "      <td>0</td>\n",
       "      <td>1</td>\n",
       "      <td>0</td>\n",
       "      <td>0</td>\n",
       "    </tr>\n",
       "    <tr>\n",
       "      <th>1</th>\n",
       "      <td>1</td>\n",
       "      <td>1</td>\n",
       "      <td>1</td>\n",
       "      <td>0</td>\n",
       "      <td>0</td>\n",
       "    </tr>\n",
       "    <tr>\n",
       "      <th>2</th>\n",
       "      <td>1</td>\n",
       "      <td>0</td>\n",
       "      <td>1</td>\n",
       "      <td>0</td>\n",
       "      <td>0</td>\n",
       "    </tr>\n",
       "    <tr>\n",
       "      <th>3</th>\n",
       "      <td>1</td>\n",
       "      <td>1</td>\n",
       "      <td>2</td>\n",
       "      <td>1</td>\n",
       "      <td>0</td>\n",
       "    </tr>\n",
       "    <tr>\n",
       "      <th>4</th>\n",
       "      <td>1</td>\n",
       "      <td>0</td>\n",
       "      <td>1</td>\n",
       "      <td>0</td>\n",
       "      <td>1</td>\n",
       "    </tr>\n",
       "  </tbody>\n",
       "</table>\n",
       "</div>"
      ],
      "text/plain": [
       "   LIVE_BAIT  CAMPER  PERSONS  CHILDREN  FISH_COUNT\n",
       "0          0       0        1         0           0\n",
       "1          1       1        1         0           0\n",
       "2          1       0        1         0           0\n",
       "3          1       1        2         1           0\n",
       "4          1       0        1         0           1"
      ]
     },
     "execution_count": 18,
     "metadata": {},
     "output_type": "execute_result"
    }
   ],
   "source": [
    "poisson = pd.read_csv('data/fish.csv')\n",
    "poisson.head()"
   ]
  },
  {
   "cell_type": "code",
   "execution_count": 19,
   "metadata": {},
   "outputs": [
    {
     "name": "stdout",
     "output_type": "stream",
     "text": [
      "Optimization terminated successfully.\n",
      "         Current function value: 3.167911\n",
      "         Iterations 8\n"
     ]
    },
    {
     "data": {
      "text/html": [
       "<table class=\"simpletable\">\n",
       "<caption>Poisson Regression Results</caption>\n",
       "<tr>\n",
       "  <th>Dep. Variable:</th>      <td>FISH_COUNT</td>    <th>  No. Observations:  </th>  <td>   250</td> \n",
       "</tr>\n",
       "<tr>\n",
       "  <th>Model:</th>                <td>Poisson</td>     <th>  Df Residuals:      </th>  <td>   245</td> \n",
       "</tr>\n",
       "<tr>\n",
       "  <th>Method:</th>                 <td>MLE</td>       <th>  Df Model:          </th>  <td>     4</td> \n",
       "</tr>\n",
       "<tr>\n",
       "  <th>Date:</th>            <td>Tue, 09 Feb 2021</td> <th>  Pseudo R-squ.:     </th>  <td>0.5193</td> \n",
       "</tr>\n",
       "<tr>\n",
       "  <th>Time:</th>                <td>20:55:52</td>     <th>  Log-Likelihood:    </th> <td> -791.98</td>\n",
       "</tr>\n",
       "<tr>\n",
       "  <th>converged:</th>             <td>True</td>       <th>  LL-Null:           </th> <td> -1647.7</td>\n",
       "</tr>\n",
       "<tr>\n",
       "  <th>Covariance Type:</th>     <td>nonrobust</td>    <th>  LLR p-value:       </th>  <td> 0.000</td> \n",
       "</tr>\n",
       "</table>\n",
       "<table class=\"simpletable\">\n",
       "<tr>\n",
       "      <td></td>         <th>coef</th>     <th>std err</th>      <th>z</th>      <th>P>|z|</th>  <th>[0.025</th>    <th>0.975]</th>  \n",
       "</tr>\n",
       "<tr>\n",
       "  <th>const</th>     <td>   -3.3901</td> <td>    0.265</td> <td>  -12.797</td> <td> 0.000</td> <td>   -3.909</td> <td>   -2.871</td>\n",
       "</tr>\n",
       "<tr>\n",
       "  <th>LIVE_BAIT</th> <td>    1.6697</td> <td>    0.233</td> <td>    7.160</td> <td> 0.000</td> <td>    1.213</td> <td>    2.127</td>\n",
       "</tr>\n",
       "<tr>\n",
       "  <th>CAMPER</th>    <td>    0.8001</td> <td>    0.089</td> <td>    8.943</td> <td> 0.000</td> <td>    0.625</td> <td>    0.975</td>\n",
       "</tr>\n",
       "<tr>\n",
       "  <th>PERSONS</th>   <td>    1.0740</td> <td>    0.039</td> <td>   27.534</td> <td> 0.000</td> <td>    0.998</td> <td>    1.150</td>\n",
       "</tr>\n",
       "<tr>\n",
       "  <th>CHILDREN</th>  <td>   -1.7099</td> <td>    0.081</td> <td>  -21.005</td> <td> 0.000</td> <td>   -1.869</td> <td>   -1.550</td>\n",
       "</tr>\n",
       "</table>"
      ],
      "text/plain": [
       "<class 'statsmodels.iolib.summary.Summary'>\n",
       "\"\"\"\n",
       "                          Poisson Regression Results                          \n",
       "==============================================================================\n",
       "Dep. Variable:             FISH_COUNT   No. Observations:                  250\n",
       "Model:                        Poisson   Df Residuals:                      245\n",
       "Method:                           MLE   Df Model:                            4\n",
       "Date:                Tue, 09 Feb 2021   Pseudo R-squ.:                  0.5193\n",
       "Time:                        20:55:52   Log-Likelihood:                -791.98\n",
       "converged:                       True   LL-Null:                       -1647.7\n",
       "Covariance Type:            nonrobust   LLR p-value:                     0.000\n",
       "==============================================================================\n",
       "                 coef    std err          z      P>|z|      [0.025      0.975]\n",
       "------------------------------------------------------------------------------\n",
       "const         -3.3901      0.265    -12.797      0.000      -3.909      -2.871\n",
       "LIVE_BAIT      1.6697      0.233      7.160      0.000       1.213       2.127\n",
       "CAMPER         0.8001      0.089      8.943      0.000       0.625       0.975\n",
       "PERSONS        1.0740      0.039     27.534      0.000       0.998       1.150\n",
       "CHILDREN      -1.7099      0.081    -21.005      0.000      -1.869      -1.550\n",
       "==============================================================================\n",
       "\"\"\""
      ]
     },
     "execution_count": 19,
     "metadata": {},
     "output_type": "execute_result"
    }
   ],
   "source": [
    "X = poisson.drop('FISH_COUNT',axis=1)\n",
    "y = poisson['FISH_COUNT']\n",
    "\n",
    "sm.Poisson(y, sm.add_constant(X)).fit().summary()"
   ]
  },
  {
   "cell_type": "code",
   "execution_count": 20,
   "metadata": {},
   "outputs": [
    {
     "name": "stdout",
     "output_type": "stream",
     "text": [
      "Optimization terminated successfully.\n",
      "         Current function value: 2.943385\n",
      "         Iterations: 20\n",
      "         Function evaluations: 22\n",
      "         Gradient evaluations: 22\n"
     ]
    },
    {
     "name": "stderr",
     "output_type": "stream",
     "text": [
      "C:\\Users\\pchiu\\Documents\\Anaconda\\lib\\site-packages\\statsmodels\\base\\model.py:567: ConvergenceWarning: Maximum Likelihood optimization failed to converge. Check mle_retvals\n",
      "  warn(\"Maximum Likelihood optimization failed to converge. \"\n"
     ]
    },
    {
     "data": {
      "text/html": [
       "<table class=\"simpletable\">\n",
       "<caption>ZeroInflatedPoisson Regression Results</caption>\n",
       "<tr>\n",
       "  <th>Dep. Variable:</th>       <td>FISH_COUNT</td>      <th>  No. Observations:  </th>   <td>   250</td>  \n",
       "</tr>\n",
       "<tr>\n",
       "  <th>Model:</th>           <td>ZeroInflatedPoisson</td> <th>  Df Residuals:      </th>   <td>   245</td>  \n",
       "</tr>\n",
       "<tr>\n",
       "  <th>Method:</th>                  <td>MLE</td>         <th>  Df Model:          </th>   <td>     4</td>  \n",
       "</tr>\n",
       "<tr>\n",
       "  <th>Date:</th>             <td>Tue, 09 Feb 2021</td>   <th>  Pseudo R-squ.:     </th>   <td>0.3471</td>  \n",
       "</tr>\n",
       "<tr>\n",
       "  <th>Time:</th>                 <td>20:55:52</td>       <th>  Log-Likelihood:    </th>  <td> -735.85</td> \n",
       "</tr>\n",
       "<tr>\n",
       "  <th>converged:</th>              <td>True</td>         <th>  LL-Null:           </th>  <td> -1127.0</td> \n",
       "</tr>\n",
       "<tr>\n",
       "  <th>Covariance Type:</th>      <td>nonrobust</td>      <th>  LLR p-value:       </th> <td>5.101e-168</td>\n",
       "</tr>\n",
       "</table>\n",
       "<table class=\"simpletable\">\n",
       "<tr>\n",
       "        <td></td>           <th>coef</th>     <th>std err</th>      <th>z</th>      <th>P>|z|</th>  <th>[0.025</th>    <th>0.975]</th>  \n",
       "</tr>\n",
       "<tr>\n",
       "  <th>inflate_const</th> <td>   -0.4805</td> <td>    0.177</td> <td>   -2.720</td> <td> 0.007</td> <td>   -0.827</td> <td>   -0.134</td>\n",
       "</tr>\n",
       "<tr>\n",
       "  <th>const</th>         <td>   -2.5327</td> <td>    0.278</td> <td>   -9.099</td> <td> 0.000</td> <td>   -3.078</td> <td>   -1.987</td>\n",
       "</tr>\n",
       "<tr>\n",
       "  <th>LIVE_BAIT</th>     <td>    1.7086</td> <td>    0.242</td> <td>    7.073</td> <td> 0.000</td> <td>    1.235</td> <td>    2.182</td>\n",
       "</tr>\n",
       "<tr>\n",
       "  <th>CAMPER</th>        <td>    0.6745</td> <td>    0.094</td> <td>    7.191</td> <td> 0.000</td> <td>    0.491</td> <td>    0.858</td>\n",
       "</tr>\n",
       "<tr>\n",
       "  <th>PERSONS</th>       <td>    0.8752</td> <td>    0.043</td> <td>   20.447</td> <td> 0.000</td> <td>    0.791</td> <td>    0.959</td>\n",
       "</tr>\n",
       "<tr>\n",
       "  <th>CHILDREN</th>      <td>   -1.3957</td> <td>    0.090</td> <td>  -15.582</td> <td> 0.000</td> <td>   -1.571</td> <td>   -1.220</td>\n",
       "</tr>\n",
       "</table>"
      ],
      "text/plain": [
       "<class 'statsmodels.iolib.summary.Summary'>\n",
       "\"\"\"\n",
       "                     ZeroInflatedPoisson Regression Results                    \n",
       "===============================================================================\n",
       "Dep. Variable:              FISH_COUNT   No. Observations:                  250\n",
       "Model:             ZeroInflatedPoisson   Df Residuals:                      245\n",
       "Method:                            MLE   Df Model:                            4\n",
       "Date:                 Tue, 09 Feb 2021   Pseudo R-squ.:                  0.3471\n",
       "Time:                         20:55:52   Log-Likelihood:                -735.85\n",
       "converged:                        True   LL-Null:                       -1127.0\n",
       "Covariance Type:             nonrobust   LLR p-value:                5.101e-168\n",
       "=================================================================================\n",
       "                    coef    std err          z      P>|z|      [0.025      0.975]\n",
       "---------------------------------------------------------------------------------\n",
       "inflate_const    -0.4805      0.177     -2.720      0.007      -0.827      -0.134\n",
       "const            -2.5327      0.278     -9.099      0.000      -3.078      -1.987\n",
       "LIVE_BAIT         1.7086      0.242      7.073      0.000       1.235       2.182\n",
       "CAMPER            0.6745      0.094      7.191      0.000       0.491       0.858\n",
       "PERSONS           0.8752      0.043     20.447      0.000       0.791       0.959\n",
       "CHILDREN         -1.3957      0.090    -15.582      0.000      -1.571      -1.220\n",
       "=================================================================================\n",
       "\"\"\""
      ]
     },
     "execution_count": 20,
     "metadata": {},
     "output_type": "execute_result"
    }
   ],
   "source": [
    "est = sm.ZeroInflatedPoisson(y, sm.add_constant(X)).fit()\n",
    "est.summary()"
   ]
  },
  {
   "cell_type": "markdown",
   "metadata": {},
   "source": [
    "All of the variables are statistically significant. Children is the only variable that has a negative coefficient. If you want to fish for more fishes, you should not bring children with you."
   ]
  },
  {
   "cell_type": "markdown",
   "metadata": {},
   "source": [
    "# 5. Survival Question\n",
    "\n",
    "The `data/telco_churn.csv` dataset comes from [here](https://www.kaggle.com/blastchar/telco-customer-churn) and here is the description:\n",
    "\n",
    "**Context**\n",
    "\n",
    "\"Predict behavior to retain customers. You can analyze all relevant customer data and develop focused customer retention programs.\" [IBM Sample Data Sets]\n",
    "Content\n",
    "\n",
    "Each row represents a customer, each column contains customer’s attributes described on the column Metadata.\n",
    "\n",
    "The data set includes information about:\n",
    "\n",
    "- Customers who left within the last month – the column is called Churn\n",
    "- Services that each customer has signed up for – phone, multiple lines, internet, online security, online backup, device protection, tech support, and streaming TV and movies\n",
    "- Customer account information – how long they’ve been a customer, contract, payment method, paperless billing, monthly charges, and total charges\n",
    "- Demographic info about customers – gender, age range, and if they have partners and dependents\n",
    "\n",
    "\n",
    "**5.1 StreamingTV churn**\n",
    "\n",
    "The `Tenure` column is how long the customer lasted. Make the survival curve for both the group using StreamingTV and the one not using it in the dataset\n",
    "\n",
    "![](streamingtv.png)\n",
    "\n",
    "\n",
    "**5.2 Survival Regression**\n",
    "\n",
    "Use either lifelines or statsmodels to implement a survival regression model predicting tenure. Don't forget to use the churn column as the event column."
   ]
  },
  {
   "cell_type": "code",
   "execution_count": 21,
   "metadata": {},
   "outputs": [],
   "source": [
    "telco = pd.read_csv('data/telco_churn.csv')"
   ]
  },
  {
   "cell_type": "code",
   "execution_count": 22,
   "metadata": {},
   "outputs": [],
   "source": [
    "telco1 = telco[~telco['StreamingTV'].str.contains('No internet service')]\n",
    "X = telco1['tenure']\n",
    "y = pd.get_dummies(telco1['StreamingTV'],drop_first=True)"
   ]
  },
  {
   "cell_type": "code",
   "execution_count": 23,
   "metadata": {},
   "outputs": [
    {
     "data": {
      "image/png": "[encoded data removed]",
      "text/plain": [
       "<Figure size 432x288 with 1 Axes>"
      ]
     },
     "metadata": {
      "needs_background": "light"
     },
     "output_type": "display_data"
    }
   ],
   "source": [
    "from lifelines import KaplanMeierFitter\n",
    "\n",
    "group1 = telco1[['tenure','StreamingTV','Churn']].copy()\n",
    "group1['Churn'] = pd.get_dummies(group1['Churn'],drop_first=True)\n",
    "#group1['StreamingTV'] = pd.get_dummies(telco1['StreamingTV'],drop_first=True)\n",
    "group1.reset_index(inplace=True, drop=True)\n",
    "\n",
    "\n",
    "T=group1['tenure']\n",
    "C=group1['Churn']\n",
    "\n",
    "kmf = KaplanMeierFitter()\n",
    "groups = group1['StreamingTV']\n",
    "ix = (groups == 'Yes')\n",
    "kmf.fit(T[~ix], C[~ix], label='Not Subscribed StreamingTV')\n",
    "ax = kmf.plot_survival_function()\n",
    "kmf.fit(T[ix], C[ix], label='Subscribed StreamingTV')\n",
    "ax = kmf.plot_survival_function(ax=ax)"
   ]
  },
  {
   "cell_type": "code",
   "execution_count": 24,
   "metadata": {},
   "outputs": [],
   "source": [
    "telco2 = telco1.copy()\n",
    "telco2 = telco2.dropna()\n",
    "telco2['TotalCharges'] = pd.to_numeric(telco2['TotalCharges'],errors='coerce')\n",
    "\n",
    "#Michael's code\n",
    "telco2['PaymentMethod'] = telco2['PaymentMethod'].apply(lambda x: 1 if x == 'Credit card (automatic)' else 0 )\n",
    "telco2['InternetService'] = telco2['InternetService'].apply(lambda x: 1 if x == 'DSL' else 0 )\n",
    "telco2['Contract'] = telco2['Contract'].apply(lambda x: 1 if x == 'One year' else 0 )\n",
    "telco2['MultipleLines'] = telco2['MultipleLines'].apply(lambda x: 1 if x == 'Yes' else 0 )\n",
    "\n",
    "\n",
    "telco2.drop('customerID',axis=1, inplace=True)\n",
    "telco2.reset_index(drop=True, inplace=True)"
   ]
  },
  {
   "cell_type": "code",
   "execution_count": 25,
   "metadata": {},
   "outputs": [],
   "source": [
    "#telco2_y = telco2['tenure']\n",
    "cat_col  = ['gender','Partner','Dependents','PhoneService','MultipleLines',\n",
    "            'OnlineSecurity','OnlineBackup','DeviceProtection','TechSupport',\n",
    "            'StreamingTV','StreamingMovies','PaperlessBilling','Churn']\n",
    "X = telco2[['tenure','MonthlyCharges','InternetService', 'PaymentMethod','Contract']].copy()\n",
    "\n",
    "for c in cat_col:\n",
    "     X[c] = pd.get_dummies(telco2[c],drop_first=True,prefix=c)"
   ]
  },
  {
   "cell_type": "code",
   "execution_count": 26,
   "metadata": {
    "scrolled": true
   },
   "outputs": [
    {
     "data": {
      "text/html": [
       "<div>\n",
       "<style scoped>\n",
       "    .dataframe tbody tr th:only-of-type {\n",
       "        vertical-align: middle;\n",
       "    }\n",
       "\n",
       "    .dataframe tbody tr th {\n",
       "        vertical-align: top;\n",
       "    }\n",
       "\n",
       "    .dataframe thead th {\n",
       "        text-align: right;\n",
       "    }\n",
       "</style>\n",
       "<table border=\"1\" class=\"dataframe\">\n",
       "  <tbody>\n",
       "    <tr>\n",
       "      <th>model</th>\n",
       "      <td>lifelines.CoxPHFitter</td>\n",
       "    </tr>\n",
       "    <tr>\n",
       "      <th>duration col</th>\n",
       "      <td>'tenure'</td>\n",
       "    </tr>\n",
       "    <tr>\n",
       "      <th>event col</th>\n",
       "      <td>'Churn'</td>\n",
       "    </tr>\n",
       "    <tr>\n",
       "      <th>baseline estimation</th>\n",
       "      <td>breslow</td>\n",
       "    </tr>\n",
       "    <tr>\n",
       "      <th>number of observations</th>\n",
       "      <td>5517</td>\n",
       "    </tr>\n",
       "    <tr>\n",
       "      <th>number of events observed</th>\n",
       "      <td>1756</td>\n",
       "    </tr>\n",
       "    <tr>\n",
       "      <th>partial log-likelihood</th>\n",
       "      <td>-13087.33</td>\n",
       "    </tr>\n",
       "    <tr>\n",
       "      <th>time fit was run</th>\n",
       "      <td>2021-02-10 01:55:53 UTC</td>\n",
       "    </tr>\n",
       "  </tbody>\n",
       "</table>\n",
       "</div><table border=\"1\" class=\"dataframe\">\n",
       "  <thead>\n",
       "    <tr style=\"text-align: right;\">\n",
       "      <th style=\"min-width: 12px;\"></th>\n",
       "      <th style=\"min-width: 12px;\">coef</th>\n",
       "      <th style=\"min-width: 12px;\">exp(coef)</th>\n",
       "      <th style=\"min-width: 12px;\">se(coef)</th>\n",
       "      <th style=\"min-width: 12px;\">coef lower 95%</th>\n",
       "      <th style=\"min-width: 12px;\">coef upper 95%</th>\n",
       "      <th style=\"min-width: 12px;\">exp(coef) lower 95%</th>\n",
       "      <th style=\"min-width: 12px;\">exp(coef) upper 95%</th>\n",
       "      <th style=\"min-width: 12px;\">z</th>\n",
       "      <th style=\"min-width: 12px;\">p</th>\n",
       "      <th style=\"min-width: 12px;\">-log2(p)</th>\n",
       "    </tr>\n",
       "  </thead>\n",
       "  <tbody>\n",
       "    <tr>\n",
       "      <th>MonthlyCharges</th>\n",
       "      <td>-0.01</td>\n",
       "      <td>0.99</td>\n",
       "      <td>0.02</td>\n",
       "      <td>-0.05</td>\n",
       "      <td>0.04</td>\n",
       "      <td>0.95</td>\n",
       "      <td>1.04</td>\n",
       "      <td>-0.23</td>\n",
       "      <td>0.82</td>\n",
       "      <td>0.29</td>\n",
       "    </tr>\n",
       "    <tr>\n",
       "      <th>InternetService</th>\n",
       "      <td>-0.66</td>\n",
       "      <td>0.52</td>\n",
       "      <td>0.57</td>\n",
       "      <td>-1.77</td>\n",
       "      <td>0.45</td>\n",
       "      <td>0.17</td>\n",
       "      <td>1.57</td>\n",
       "      <td>-1.16</td>\n",
       "      <td>0.24</td>\n",
       "      <td>2.03</td>\n",
       "    </tr>\n",
       "    <tr>\n",
       "      <th>PaymentMethod</th>\n",
       "      <td>-0.62</td>\n",
       "      <td>0.54</td>\n",
       "      <td>0.07</td>\n",
       "      <td>-0.76</td>\n",
       "      <td>-0.48</td>\n",
       "      <td>0.47</td>\n",
       "      <td>0.62</td>\n",
       "      <td>-8.56</td>\n",
       "      <td>&lt;0.005</td>\n",
       "      <td>56.33</td>\n",
       "    </tr>\n",
       "    <tr>\n",
       "      <th>Contract</th>\n",
       "      <td>-0.95</td>\n",
       "      <td>0.39</td>\n",
       "      <td>0.09</td>\n",
       "      <td>-1.11</td>\n",
       "      <td>-0.78</td>\n",
       "      <td>0.33</td>\n",
       "      <td>0.46</td>\n",
       "      <td>-11.03</td>\n",
       "      <td>&lt;0.005</td>\n",
       "      <td>91.64</td>\n",
       "    </tr>\n",
       "    <tr>\n",
       "      <th>gender</th>\n",
       "      <td>-0.06</td>\n",
       "      <td>0.94</td>\n",
       "      <td>0.05</td>\n",
       "      <td>-0.15</td>\n",
       "      <td>0.03</td>\n",
       "      <td>0.86</td>\n",
       "      <td>1.03</td>\n",
       "      <td>-1.26</td>\n",
       "      <td>0.21</td>\n",
       "      <td>2.27</td>\n",
       "    </tr>\n",
       "    <tr>\n",
       "      <th>Partner</th>\n",
       "      <td>-0.59</td>\n",
       "      <td>0.55</td>\n",
       "      <td>0.06</td>\n",
       "      <td>-0.70</td>\n",
       "      <td>-0.48</td>\n",
       "      <td>0.50</td>\n",
       "      <td>0.62</td>\n",
       "      <td>-10.50</td>\n",
       "      <td>&lt;0.005</td>\n",
       "      <td>83.30</td>\n",
       "    </tr>\n",
       "    <tr>\n",
       "      <th>Dependents</th>\n",
       "      <td>-0.13</td>\n",
       "      <td>0.88</td>\n",
       "      <td>0.07</td>\n",
       "      <td>-0.27</td>\n",
       "      <td>0.01</td>\n",
       "      <td>0.76</td>\n",
       "      <td>1.01</td>\n",
       "      <td>-1.87</td>\n",
       "      <td>0.06</td>\n",
       "      <td>4.02</td>\n",
       "    </tr>\n",
       "    <tr>\n",
       "      <th>PhoneService</th>\n",
       "      <td>0.12</td>\n",
       "      <td>1.13</td>\n",
       "      <td>0.46</td>\n",
       "      <td>-0.79</td>\n",
       "      <td>1.03</td>\n",
       "      <td>0.46</td>\n",
       "      <td>2.81</td>\n",
       "      <td>0.27</td>\n",
       "      <td>0.79</td>\n",
       "      <td>0.34</td>\n",
       "    </tr>\n",
       "    <tr>\n",
       "      <th>MultipleLines</th>\n",
       "      <td>-0.48</td>\n",
       "      <td>0.62</td>\n",
       "      <td>0.12</td>\n",
       "      <td>-0.73</td>\n",
       "      <td>-0.24</td>\n",
       "      <td>0.48</td>\n",
       "      <td>0.79</td>\n",
       "      <td>-3.86</td>\n",
       "      <td>&lt;0.005</td>\n",
       "      <td>13.13</td>\n",
       "    </tr>\n",
       "    <tr>\n",
       "      <th>OnlineSecurity</th>\n",
       "      <td>-0.95</td>\n",
       "      <td>0.39</td>\n",
       "      <td>0.13</td>\n",
       "      <td>-1.21</td>\n",
       "      <td>-0.69</td>\n",
       "      <td>0.30</td>\n",
       "      <td>0.50</td>\n",
       "      <td>-7.21</td>\n",
       "      <td>&lt;0.005</td>\n",
       "      <td>40.75</td>\n",
       "    </tr>\n",
       "    <tr>\n",
       "      <th>OnlineBackup</th>\n",
       "      <td>-0.73</td>\n",
       "      <td>0.48</td>\n",
       "      <td>0.12</td>\n",
       "      <td>-0.97</td>\n",
       "      <td>-0.49</td>\n",
       "      <td>0.38</td>\n",
       "      <td>0.61</td>\n",
       "      <td>-5.89</td>\n",
       "      <td>&lt;0.005</td>\n",
       "      <td>27.92</td>\n",
       "    </tr>\n",
       "    <tr>\n",
       "      <th>DeviceProtection</th>\n",
       "      <td>-0.51</td>\n",
       "      <td>0.60</td>\n",
       "      <td>0.13</td>\n",
       "      <td>-0.76</td>\n",
       "      <td>-0.26</td>\n",
       "      <td>0.47</td>\n",
       "      <td>0.77</td>\n",
       "      <td>-4.04</td>\n",
       "      <td>&lt;0.005</td>\n",
       "      <td>14.19</td>\n",
       "    </tr>\n",
       "    <tr>\n",
       "      <th>TechSupport</th>\n",
       "      <td>-0.83</td>\n",
       "      <td>0.44</td>\n",
       "      <td>0.13</td>\n",
       "      <td>-1.09</td>\n",
       "      <td>-0.57</td>\n",
       "      <td>0.34</td>\n",
       "      <td>0.56</td>\n",
       "      <td>-6.33</td>\n",
       "      <td>&lt;0.005</td>\n",
       "      <td>31.92</td>\n",
       "    </tr>\n",
       "    <tr>\n",
       "      <th>StreamingTV</th>\n",
       "      <td>-0.07</td>\n",
       "      <td>0.94</td>\n",
       "      <td>0.23</td>\n",
       "      <td>-0.52</td>\n",
       "      <td>0.39</td>\n",
       "      <td>0.59</td>\n",
       "      <td>1.47</td>\n",
       "      <td>-0.29</td>\n",
       "      <td>0.77</td>\n",
       "      <td>0.37</td>\n",
       "    </tr>\n",
       "    <tr>\n",
       "      <th>StreamingMovies</th>\n",
       "      <td>-0.14</td>\n",
       "      <td>0.87</td>\n",
       "      <td>0.23</td>\n",
       "      <td>-0.60</td>\n",
       "      <td>0.31</td>\n",
       "      <td>0.55</td>\n",
       "      <td>1.37</td>\n",
       "      <td>-0.61</td>\n",
       "      <td>0.54</td>\n",
       "      <td>0.89</td>\n",
       "    </tr>\n",
       "    <tr>\n",
       "      <th>PaperlessBilling</th>\n",
       "      <td>0.30</td>\n",
       "      <td>1.35</td>\n",
       "      <td>0.06</td>\n",
       "      <td>0.18</td>\n",
       "      <td>0.41</td>\n",
       "      <td>1.20</td>\n",
       "      <td>1.51</td>\n",
       "      <td>5.11</td>\n",
       "      <td>&lt;0.005</td>\n",
       "      <td>21.58</td>\n",
       "    </tr>\n",
       "  </tbody>\n",
       "</table><br><div>\n",
       "<style scoped>\n",
       "    .dataframe tbody tr th:only-of-type {\n",
       "        vertical-align: middle;\n",
       "    }\n",
       "\n",
       "    .dataframe tbody tr th {\n",
       "        vertical-align: top;\n",
       "    }\n",
       "\n",
       "    .dataframe thead th {\n",
       "        text-align: right;\n",
       "    }\n",
       "</style>\n",
       "<table border=\"1\" class=\"dataframe\">\n",
       "  <tbody>\n",
       "    <tr>\n",
       "      <th>Concordance</th>\n",
       "      <td>0.83</td>\n",
       "    </tr>\n",
       "    <tr>\n",
       "      <th>Partial AIC</th>\n",
       "      <td>26206.65</td>\n",
       "    </tr>\n",
       "    <tr>\n",
       "      <th>log-likelihood ratio test</th>\n",
       "      <td>2359.22 on 16 df</td>\n",
       "    </tr>\n",
       "    <tr>\n",
       "      <th>-log2(p) of ll-ratio test</th>\n",
       "      <td>inf</td>\n",
       "    </tr>\n",
       "  </tbody>\n",
       "</table>\n",
       "</div>"
      ],
      "text/latex": [
       "\\begin{tabular}{lrrrrrrrrrr}\n",
       "\\toprule\n",
       "{} &  coef &  exp(coef) &  se(coef) &  coef lower 95\\% &  coef upper 95\\% &  exp(coef) lower 95\\% &  exp(coef) upper 95\\% &      z &    p &  -log2(p) \\\\\n",
       "covariate        &       &            &           &                 &                 &                      &                      &        &      &           \\\\\n",
       "\\midrule\n",
       "MonthlyCharges   & -0.01 &       0.99 &      0.02 &           -0.05 &            0.04 &                 0.95 &                 1.04 &  -0.23 & 0.82 &      0.29 \\\\\n",
       "InternetService  & -0.66 &       0.52 &      0.57 &           -1.77 &            0.45 &                 0.17 &                 1.57 &  -1.16 & 0.24 &      2.03 \\\\\n",
       "PaymentMethod    & -0.62 &       0.54 &      0.07 &           -0.76 &           -0.48 &                 0.47 &                 0.62 &  -8.56 & 0.00 &     56.33 \\\\\n",
       "Contract         & -0.95 &       0.39 &      0.09 &           -1.11 &           -0.78 &                 0.33 &                 0.46 & -11.03 & 0.00 &     91.64 \\\\\n",
       "gender           & -0.06 &       0.94 &      0.05 &           -0.15 &            0.03 &                 0.86 &                 1.03 &  -1.26 & 0.21 &      2.27 \\\\\n",
       "Partner          & -0.59 &       0.55 &      0.06 &           -0.70 &           -0.48 &                 0.50 &                 0.62 & -10.50 & 0.00 &     83.30 \\\\\n",
       "Dependents       & -0.13 &       0.88 &      0.07 &           -0.27 &            0.01 &                 0.76 &                 1.01 &  -1.87 & 0.06 &      4.02 \\\\\n",
       "PhoneService     &  0.12 &       1.13 &      0.46 &           -0.79 &            1.03 &                 0.46 &                 2.81 &   0.27 & 0.79 &      0.34 \\\\\n",
       "MultipleLines    & -0.48 &       0.62 &      0.12 &           -0.73 &           -0.24 &                 0.48 &                 0.79 &  -3.86 & 0.00 &     13.13 \\\\\n",
       "OnlineSecurity   & -0.95 &       0.39 &      0.13 &           -1.21 &           -0.69 &                 0.30 &                 0.50 &  -7.21 & 0.00 &     40.75 \\\\\n",
       "OnlineBackup     & -0.73 &       0.48 &      0.12 &           -0.97 &           -0.49 &                 0.38 &                 0.61 &  -5.89 & 0.00 &     27.92 \\\\\n",
       "DeviceProtection & -0.51 &       0.60 &      0.13 &           -0.76 &           -0.26 &                 0.47 &                 0.77 &  -4.04 & 0.00 &     14.19 \\\\\n",
       "TechSupport      & -0.83 &       0.44 &      0.13 &           -1.09 &           -0.57 &                 0.34 &                 0.56 &  -6.33 & 0.00 &     31.92 \\\\\n",
       "StreamingTV      & -0.07 &       0.94 &      0.23 &           -0.52 &            0.39 &                 0.59 &                 1.47 &  -0.29 & 0.77 &      0.37 \\\\\n",
       "StreamingMovies  & -0.14 &       0.87 &      0.23 &           -0.60 &            0.31 &                 0.55 &                 1.37 &  -0.61 & 0.54 &      0.89 \\\\\n",
       "PaperlessBilling &  0.30 &       1.35 &      0.06 &            0.18 &            0.41 &                 1.20 &                 1.51 &   5.11 & 0.00 &     21.58 \\\\\n",
       "\\bottomrule\n",
       "\\end{tabular}\n"
      ],
      "text/plain": [
       "<lifelines.CoxPHFitter: fitted with 5517 total observations, 3761 right-censored observations>\n",
       "             duration col = 'tenure'\n",
       "                event col = 'Churn'\n",
       "      baseline estimation = breslow\n",
       "   number of observations = 5517\n",
       "number of events observed = 1756\n",
       "   partial log-likelihood = -13087.33\n",
       "         time fit was run = 2021-02-10 01:55:53 UTC\n",
       "\n",
       "---\n",
       "                   coef  exp(coef)   se(coef)   coef lower 95%   coef upper 95%  exp(coef) lower 95%  exp(coef) upper 95%\n",
       "covariate                                                                                                                \n",
       "MonthlyCharges    -0.01       0.99       0.02            -0.05             0.04                 0.95                 1.04\n",
       "InternetService   -0.66       0.52       0.57            -1.77             0.45                 0.17                 1.57\n",
       "PaymentMethod     -0.62       0.54       0.07            -0.76            -0.48                 0.47                 0.62\n",
       "Contract          -0.95       0.39       0.09            -1.11            -0.78                 0.33                 0.46\n",
       "gender            -0.06       0.94       0.05            -0.15             0.03                 0.86                 1.03\n",
       "Partner           -0.59       0.55       0.06            -0.70            -0.48                 0.50                 0.62\n",
       "Dependents        -0.13       0.88       0.07            -0.27             0.01                 0.76                 1.01\n",
       "PhoneService       0.12       1.13       0.46            -0.79             1.03                 0.46                 2.81\n",
       "MultipleLines     -0.48       0.62       0.12            -0.73            -0.24                 0.48                 0.79\n",
       "OnlineSecurity    -0.95       0.39       0.13            -1.21            -0.69                 0.30                 0.50\n",
       "OnlineBackup      -0.73       0.48       0.12            -0.97            -0.49                 0.38                 0.61\n",
       "DeviceProtection  -0.51       0.60       0.13            -0.76            -0.26                 0.47                 0.77\n",
       "TechSupport       -0.83       0.44       0.13            -1.09            -0.57                 0.34                 0.56\n",
       "StreamingTV       -0.07       0.94       0.23            -0.52             0.39                 0.59                 1.47\n",
       "StreamingMovies   -0.14       0.87       0.23            -0.60             0.31                 0.55                 1.37\n",
       "PaperlessBilling   0.30       1.35       0.06             0.18             0.41                 1.20                 1.51\n",
       "\n",
       "                      z      p   -log2(p)\n",
       "covariate                                \n",
       "MonthlyCharges    -0.23   0.82       0.29\n",
       "InternetService   -1.16   0.24       2.03\n",
       "PaymentMethod     -8.56 <0.005      56.33\n",
       "Contract         -11.03 <0.005      91.64\n",
       "gender            -1.26   0.21       2.27\n",
       "Partner          -10.50 <0.005      83.30\n",
       "Dependents        -1.87   0.06       4.02\n",
       "PhoneService       0.27   0.79       0.34\n",
       "MultipleLines     -3.86 <0.005      13.13\n",
       "OnlineSecurity    -7.21 <0.005      40.75\n",
       "OnlineBackup      -5.89 <0.005      27.92\n",
       "DeviceProtection  -4.04 <0.005      14.19\n",
       "TechSupport       -6.33 <0.005      31.92\n",
       "StreamingTV       -0.29   0.77       0.37\n",
       "StreamingMovies   -0.61   0.54       0.89\n",
       "PaperlessBilling   5.11 <0.005      21.58\n",
       "---\n",
       "Concordance = 0.83\n",
       "Partial AIC = 26206.65\n",
       "log-likelihood ratio test = 2359.22 on 16 df\n",
       "-log2(p) of ll-ratio test = inf"
      ]
     },
     "metadata": {},
     "output_type": "display_data"
    },
    {
     "name": "stdout",
     "output_type": "stream",
     "text": [
      "None\n"
     ]
    },
    {
     "data": {
      "text/plain": [
       "<matplotlib.axes._subplots.AxesSubplot at 0x2bf9f4d91f0>"
      ]
     },
     "execution_count": 26,
     "metadata": {},
     "output_type": "execute_result"
    },
    {
     "data": {
      "image/png": "[encoded data removed]",
      "text/plain": [
       "<Figure size 432x288 with 1 Axes>"
      ]
     },
     "metadata": {
      "needs_background": "light"
     },
     "output_type": "display_data"
    }
   ],
   "source": [
    "from lifelines import CoxPHFitter\n",
    "\n",
    "# Using Cox Proportional Hazards model\n",
    "cph = CoxPHFitter()\n",
    "cph.fit(X, duration_col='tenure', event_col='Churn')\n",
    "print(cph.print_summary())\n",
    "cph.plot()"
   ]
  },
  {
   "cell_type": "code",
   "execution_count": null,
   "metadata": {},
   "outputs": [],
   "source": []
  }
 ],
 "metadata": {
  "file_extension": ".py",
  "kernelspec": {
   "display_name": "Python 3",
   "language": "python",
   "name": "python3"
  },
  "language_info": {
   "codemirror_mode": {
    "name": "ipython",
    "version": 3
   },
   "file_extension": ".py",
   "mimetype": "text/x-python",
   "name": "python",
   "nbconvert_exporter": "python",
   "pygments_lexer": "ipython3",
   "version": "3.8.3"
  },
  "mimetype": "text/x-python",
  "name": "python",
  "npconvert_exporter": "python",
  "pygments_lexer": "ipython3",
  "version": 3
 },
 "nbformat": 4,
 "nbformat_minor": 2
}
